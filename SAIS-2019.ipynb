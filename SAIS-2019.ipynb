{
 "cells": [
  {
   "cell_type": "markdown",
   "metadata": {},
   "source": [
    "# Vectorized Execution in SparkR"
   ]
  },
  {
   "cell_type": "markdown",
   "metadata": {},
   "source": [
    "First, enable R cell magic to execute R codes in Jupyter."
   ]
  },
  {
   "cell_type": "code",
   "execution_count": null,
   "metadata": {},
   "outputs": [],
   "source": [
    "import rpy2.rinterface\n",
    "%load_ext rpy2.ipython"
   ]
  },
  {
   "cell_type": "markdown",
   "metadata": {},
   "source": [
    "After that, prepare data to use. In this simple benchmark, 100000 Records dataset is used."
   ]
  },
  {
   "cell_type": "code",
   "execution_count": null,
   "metadata": {},
   "outputs": [],
   "source": [
    "import urllib.request\n",
    "from zipfile import ZipFile\n",
    "from io import BytesIO\n",
    "\n",
    "url = \"http://eforexcel.com/wp/wp-content/uploads/2017/07/100000-Records.zip\"\n",
    "ZipFile(BytesIO(urllib.request.urlopen(url).read())).extractall()"
   ]
  },
  {
   "cell_type": "markdown",
   "metadata": {},
   "source": [
    "Initialize SparkR with enough memory and load libraries used for benchmarking. In this benchmark, it used 1 for shuffle and default parallelism to mimic the case when the large dataset is processed."
   ]
  },
  {
   "cell_type": "code",
   "execution_count": null,
   "metadata": {},
   "outputs": [],
   "source": [
    "%%R\n",
    "library(SparkR, lib.loc = c(file.path(Sys.getenv(\"SPARK_HOME\"), \"R\", \"lib\")))\n",
    "sparkR.session(master = \"local[*]\",\n",
    "               sparkConfig = list(spark.sql.shuffle.partitions = 1,\n",
    "                                  spark.default.parallelism = 1))\n",
    "library(microbenchmark)\n",
    "library(ggplot2)"
   ]
  },
  {
   "cell_type": "markdown",
   "metadata": {},
   "source": [
    "Prepare R DataFrame to test from the data downloaded above."
   ]
  },
  {
   "cell_type": "code",
   "execution_count": null,
   "metadata": {},
   "outputs": [],
   "source": [
    "%%R\n",
    "df <- read.csv(\"100000 Records.csv\")\n",
    "print(paste(\"R DataFrame size (MB):\", object.size(df, units = \"MB\")))\n",
    "spark_df <- cache(createDataFrame(df))\n",
    "num <- count(spark_df)  # trigger the count to make sure input DataFrame is cached."
   ]
  },
  {
   "cell_type": "markdown",
   "metadata": {},
   "source": [
    "## R DataFrame to Spark DataFrame"
   ]
  },
  {
   "cell_type": "code",
   "execution_count": null,
   "metadata": {},
   "outputs": [],
   "source": [
    "%%R\n",
    "mbm <- microbenchmark(\"R to Spark DataFrame without Arrow optimization\" = {\n",
    "                        sparkR.session(master = \"local[*]\",\n",
    "                                       sparkConfig = list(spark.sql.execution.arrow.sparkr.enabled = \"false\"))\n",
    "                        createDataFrame(df)\n",
    "                      },\n",
    "                      \"R to Spark DataFrame with Arrow optimization\" = {\n",
    "                        sparkR.session(master = \"local[*]\",\n",
    "                                       sparkConfig = list(spark.sql.execution.arrow.sparkr.enabled = \"true\"))\n",
    "                        createDataFrame(df)\n",
    "                      }, times=1L)\n",
    "\n",
    "# autoplot(mbm)\n",
    "mbm"
   ]
  },
  {
   "cell_type": "markdown",
   "metadata": {},
   "source": [
    "## Spark DataFrame to R DataFrame"
   ]
  },
  {
   "cell_type": "code",
   "execution_count": null,
   "metadata": {},
   "outputs": [],
   "source": [
    "%%R\n",
    "mbm <- microbenchmark(\"Spark to R DataFrame without Arrow optimization\" = {\n",
    "                        sparkR.session(master = \"local[*]\",\n",
    "                                       sparkConfig = list(spark.sql.execution.arrow.sparkr.enabled = \"false\"))\n",
    "                        collect(spark_df)\n",
    "                      },\n",
    "                      \"Spark to R DataFrame with Arrow optimization\" = {\n",
    "                        sparkR.session(master = \"local[*]\",\n",
    "                                       sparkConfig = list(spark.sql.execution.arrow.sparkr.enabled = \"true\"))\n",
    "                        collect(spark_df)\n",
    "                      }, times=1L)\n",
    "\n",
    "# autoplot(mbm)\n",
    "mbm"
   ]
  },
  {
   "cell_type": "markdown",
   "metadata": {},
   "source": [
    "## `dapply`"
   ]
  },
  {
   "cell_type": "code",
   "execution_count": null,
   "metadata": {},
   "outputs": [],
   "source": [
    "%%R\n",
    "mbm <- microbenchmark(\"dapply without Arrow optimization\" = {\n",
    "                        sparkR.session(master = \"local[*]\",\n",
    "                                       sparkConfig = list(spark.sql.execution.arrow.sparkr.enabled = \"false\"))\n",
    "                        count(dapply(spark_df, function(rdf) { rdf }, schema(spark_df)))\n",
    "                      },\n",
    "                      \"dapply with Arrow optimization\" = {\n",
    "                        sparkR.session(master = \"local[*]\",\n",
    "                                       sparkConfig = list(spark.sql.execution.arrow.sparkr.enabled = \"true\"))\n",
    "                        count(dapply(spark_df, function(rdf) { rdf }, schema(spark_df)))\n",
    "                      }, times=1L)\n",
    "\n",
    "# autoplot(mbm)\n",
    "mbm"
   ]
  },
  {
   "cell_type": "markdown",
   "metadata": {},
   "source": [
    "## `gapply`"
   ]
  },
  {
   "cell_type": "code",
   "execution_count": null,
   "metadata": {},
   "outputs": [],
   "source": [
    "%%R\n",
    "mbm <- microbenchmark(\"gapply without Arrow optimization\" = {\n",
    "                        sparkR.session(master = \"local[*]\",\n",
    "                                       sparkConfig = list(spark.sql.execution.arrow.sparkr.enabled = \"false\"))\n",
    "                        count(gapply(spark_df,\n",
    "                                     \"Month_of_Joining\",\n",
    "                                     function(key, group) { group }, schema(spark_df)))\n",
    "                      },\n",
    "                      \"gapply with Arrow optimization\" = {\n",
    "                        sparkR.session(master = \"local[*]\",\n",
    "                                       sparkConfig = list(spark.sql.execution.arrow.sparkr.enabled = \"true\"))\n",
    "                        count(gapply(spark_df,\n",
    "                                     \"Month_of_Joining\",\n",
    "                                     function(key, group) { group }, schema(spark_df)))\n",
    "                      }, times=1L)\n",
    "\n",
    "# autoplot(mbm)\n",
    "mbm"
   ]
  }
 ],
 "metadata": {
  "kernelspec": {
   "display_name": "Python 3",
   "language": "python",
   "name": "python3"
  },
  "language_info": {
   "codemirror_mode": {
    "name": "ipython",
    "version": 3
   },
   "file_extension": ".py",
   "mimetype": "text/x-python",
   "name": "python",
   "nbconvert_exporter": "python",
   "pygments_lexer": "ipython3",
   "version": "3.7.3"
  }
 },
 "nbformat": 4,
 "nbformat_minor": 2
}
