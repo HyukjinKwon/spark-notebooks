{
 "cells": [
  {
   "cell_type": "markdown",
   "metadata": {},
   "source": [
    "# Vectorized Execution in SparkR"
   ]
  },
  {
   "cell_type": "markdown",
   "metadata": {},
   "source": [
    "This nootebook demonstrates Arrow optimization with some small data (~10 MB) so that people can actually try out and refer when they run the benchmark in an actual cluster.\n",
    "\n",
    "**Note that** the performance improves far more greatly when the size of data is large. Given my benchmark with [500000 Records](http://eforexcel.com/wp/downloads-16-sample-csv-files-data-sets-for-testing/) dataset, I have observed up to around **1000% ~ 5000%** improvement.\n",
    "For more details, see [Databricks' blog](https://databricks.com/blog/2018/08/15/100x-faster-bridge-between-spark-and-r-with-user-defined-functions-on-databricks.html)."
   ]
  },
  {
   "cell_type": "markdown",
   "metadata": {},
   "source": [
    "## Preparation"
   ]
  },
  {
   "cell_type": "markdown",
   "metadata": {},
   "source": [
    "First, enable R cell magic to execute R codes in Jupyter."
   ]
  },
  {
   "cell_type": "code",
   "execution_count": 1,
   "metadata": {},
   "outputs": [],
   "source": [
    "import rpy2.rinterface\n",
    "%load_ext rpy2.ipython"
   ]
  },
  {
   "cell_type": "markdown",
   "metadata": {},
   "source": [
    "After that, prepare data to use. In this simple benchmark, [10000 Records](http://eforexcel.com/wp/downloads-16-sample-csv-files-data-sets-for-testing/) dataset is used."
   ]
  },
  {
   "cell_type": "code",
   "execution_count": 2,
   "metadata": {},
   "outputs": [],
   "source": [
    "import urllib.request\n",
    "from zipfile import ZipFile\n",
    "from io import BytesIO\n",
    "\n",
    "# `rownum` can be 10000, 50000, 100000, ....\n",
    "# See http://eforexcel.com/wp/downloads-16-sample-csv-files-data-sets-for-testing/\n",
    "rownum = 10000\n",
    "\n",
    "url = \"http://eforexcel.com/wp/wp-content/uploads/2017/07/%s-Records.zip\" % rownum\n",
    "ZipFile(BytesIO(urllib.request.urlopen(url).read())).extractall()"
   ]
  },
  {
   "cell_type": "markdown",
   "metadata": {},
   "source": [
    "Initialize SparkR with enough memory and load libraries used for benchmarking. In this benchmark, it used 1 for shuffle and default parallelism to mimic the case when the large dataset is processed."
   ]
  },
  {
   "cell_type": "code",
   "execution_count": 3,
   "metadata": {},
   "outputs": [
    {
     "name": "stderr",
     "output_type": "stream",
     "text": [
      "R[write to console]: \n",
      "Attaching package: ‘SparkR’\n",
      "\n",
      "\n",
      "R[write to console]: The following objects are masked from ‘package:stats’:\n",
      "\n",
      "    cov, filter, lag, na.omit, predict, sd, var, window\n",
      "\n",
      "\n",
      "R[write to console]: The following objects are masked from ‘package:base’:\n",
      "\n",
      "    as.data.frame, colnames, colnames<-, drop, endsWith, intersect,\n",
      "    rank, rbind, sample, startsWith, subset, summary, transform, union\n",
      "\n",
      "\n",
      "R[write to console]: Spark package found in SPARK_HOME: /home/jovyan/spark\n",
      "\n"
     ]
    },
    {
     "name": "stdout",
     "output_type": "stream",
     "text": [
      "Launching java with spark-submit command /home/jovyan/spark/bin/spark-submit   sparkr-shell /tmp/Rtmpokvb6k/backend_portf2336d89cd39 \n"
     ]
    }
   ],
   "source": [
    "%%R\n",
    "library(SparkR, lib.loc = c(file.path(Sys.getenv(\"SPARK_HOME\"), \"R\", \"lib\")))\n",
    "# Let's limit core; otherwise, Jupyter might die on some heavy workload.\n",
    "sparkR.session(master = \"local[1]\")\n",
    "library(microbenchmark)"
   ]
  },
  {
   "cell_type": "markdown",
   "metadata": {},
   "source": [
    "Prepare R DataFrame to test from the data downloaded above."
   ]
  },
  {
   "cell_type": "code",
   "execution_count": 4,
   "metadata": {},
   "outputs": [
    {
     "name": "stdout",
     "output_type": "stream",
     "text": [
      "9.9 Mb\n"
     ]
    }
   ],
   "source": [
    "%%R\n",
    "# `rownum` can be 10000, 50000, 100000, ....\n",
    "# See http://eforexcel.com/wp/downloads-16-sample-csv-files-data-sets-for-testing/\n",
    "rownum <- 10000\n",
    "df <- read.csv(paste0(rownum, \" Records.csv\"))\n",
    "print(object.size(df), units = \"MB\")\n",
    "# To load `createDataFrame` faster, let's turn on Arrow optimization\n",
    "sparkR.session(sparkConfig = list(spark.sql.execution.arrow.sparkr.enabled = \"true\"))\n",
    "spark_df <- cache(createDataFrame(df))\n",
    "num <- count(spark_df)  # trigger the count to make sure input DataFrame is cached."
   ]
  },
  {
   "cell_type": "markdown",
   "metadata": {},
   "source": [
    "Prepare the common function to use for the benchmarking."
   ]
  },
  {
   "cell_type": "code",
   "execution_count": 5,
   "metadata": {},
   "outputs": [],
   "source": [
    "%%R\n",
    "benchmark_arrow <- function(func) {\n",
    "    microbenchmark(\"No Arrow\" = {\n",
    "                     sparkR.session(sparkConfig = list(spark.sql.execution.arrow.sparkr.enabled = \"false\"))\n",
    "                     func()\n",
    "                   },\n",
    "                   \"Arrow\" = {\n",
    "                     sparkR.session(sparkConfig = list(spark.sql.execution.arrow.sparkr.enabled = \"true\"))\n",
    "                     func()\n",
    "                   }, times = 3L)\n",
    "}"
   ]
  },
  {
   "cell_type": "markdown",
   "metadata": {},
   "source": [
    "## R DataFrame to Spark DataFrame"
   ]
  },
  {
   "cell_type": "code",
   "execution_count": 6,
   "metadata": {},
   "outputs": [
    {
     "data": {
      "image/png": "[encoded data removed]"
     },
     "metadata": {},
     "output_type": "display_data"
    }
   ],
   "source": [
    "%%R\n",
    "func <- function() { createDataFrame(df) }\n",
    "boxplot(benchmark_arrow(func))"
   ]
  },
  {
   "cell_type": "markdown",
   "metadata": {},
   "source": [
    "## Spark DataFrame to R DataFrame"
   ]
  },
  {
   "cell_type": "code",
   "execution_count": 7,
   "metadata": {},
   "outputs": [
    {
     "data": {
      "image/png": "[encoded data removed]"
     },
     "metadata": {},
     "output_type": "display_data"
    }
   ],
   "source": [
    "%%R\n",
    "func <- function() { collect(spark_df) }\n",
    "boxplot(benchmark_arrow(func))"
   ]
  },
  {
   "cell_type": "markdown",
   "metadata": {},
   "source": [
    "## `dapply`"
   ]
  },
  {
   "cell_type": "code",
   "execution_count": 8,
   "metadata": {},
   "outputs": [
    {
     "data": {
      "image/png": "[encoded data removed]"
     },
     "metadata": {},
     "output_type": "display_data"
    }
   ],
   "source": [
    "%%R\n",
    "func <- function() { count(dapply(spark_df, function(rdf) { rdf }, schema(spark_df))) }\n",
    "boxplot(benchmark_arrow(func))"
   ]
  },
  {
   "cell_type": "markdown",
   "metadata": {},
   "source": [
    "## `gapply`"
   ]
  },
  {
   "cell_type": "code",
   "execution_count": 9,
   "metadata": {},
   "outputs": [
    {
     "data": {
      "image/png": "[encoded data removed]"
     },
     "metadata": {},
     "output_type": "display_data"
    }
   ],
   "source": [
    "%%R\n",
    "func <- function() {\n",
    "  count(gapply(spark_df,\n",
    "               \"Month_of_Joining\",\n",
    "               function(key, group) { group }, schema(spark_df)))\n",
    "}\n",
    "boxplot(benchmark_arrow(func))"
   ]
  }
 ],
 "metadata": {
  "kernelspec": {
   "display_name": "Python 3",
   "language": "python",
   "name": "python3"
  },
  "language_info": {
   "codemirror_mode": {
    "name": "ipython",
    "version": 3
   },
   "file_extension": ".py",
   "mimetype": "text/x-python",
   "name": "python",
   "nbconvert_exporter": "python",
   "pygments_lexer": "ipython3",
   "version": "3.7.3"
  }
 },
 "nbformat": 4,
 "nbformat_minor": 2
}
