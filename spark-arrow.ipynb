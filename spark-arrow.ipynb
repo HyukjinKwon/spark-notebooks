{
 "cells": [
  {
   "cell_type": "markdown",
   "metadata": {},
   "source": [
    "# PySpark and SparkR Arrow optimization examples"
   ]
  },
  {
   "cell_type": "markdown",
   "metadata": {},
   "source": [
    "First, enable R cell magic as below."
   ]
  },
  {
   "cell_type": "code",
   "execution_count": 1,
   "metadata": {},
   "outputs": [],
   "source": [
    "import rpy2.rinterface\n",
    "%load_ext rpy2.ipython"
   ]
  },
  {
   "cell_type": "markdown",
   "metadata": {},
   "source": [
    "After that, locate SparkR library directroy for SparkR."
   ]
  },
  {
   "cell_type": "code",
   "execution_count": 2,
   "metadata": {},
   "outputs": [
    {
     "name": "stderr",
     "output_type": "stream",
     "text": [
      "R[write to console]: \n",
      "Attaching package: ‘SparkR’\n",
      "\n",
      "\n",
      "R[write to console]: The following objects are masked from ‘package:stats’:\n",
      "\n",
      "    cov, filter, lag, na.omit, predict, sd, var, window\n",
      "\n",
      "\n",
      "R[write to console]: The following objects are masked from ‘package:base’:\n",
      "\n",
      "    as.data.frame, colnames, colnames<-, drop, endsWith, intersect,\n",
      "    rank, rbind, sample, startsWith, subset, summary, transform, union\n",
      "\n",
      "\n"
     ]
    }
   ],
   "source": [
    "%%R\n",
    "library(SparkR, lib.loc = c(file.path(Sys.getenv(\"SPARK_HOME\"), \"R\", \"lib\")))"
   ]
  },
  {
   "cell_type": "markdown",
   "metadata": {},
   "source": [
    "Initializes a Spark session for PySaprk as well."
   ]
  },
  {
   "cell_type": "code",
   "execution_count": 3,
   "metadata": {},
   "outputs": [],
   "source": [
    "from pyspark.sql import SparkSession\n",
    "\n",
    "spark = SparkSession.builder.getOrCreate()"
   ]
  },
  {
   "cell_type": "markdown",
   "metadata": {},
   "source": [
    "## R DataFrame <> Spark DataFrame with Arrow optimization"
   ]
  },
  {
   "cell_type": "code",
   "execution_count": 4,
   "metadata": {},
   "outputs": [
    {
     "name": "stderr",
     "output_type": "stream",
     "text": [
      "R[write to console]: Spark package found in SPARK_HOME: /home/jovyan/spark\n",
      "\n"
     ]
    },
    {
     "name": "stdout",
     "output_type": "stream",
     "text": [
      "Launching java with spark-submit command /home/jovyan/spark/bin/spark-submit   sparkr-shell /tmp/Rtmp8Fl65g/backend_port29763431a86 \n",
      "Java ref type org.apache.spark.sql.SparkSession id 1 \n"
     ]
    }
   ],
   "source": [
    "%%R\n",
    "sparkR.session(master = \"local[*]\", sparkConfig = list(spark.sql.execution.arrow.sparkr.enabled = \"true\"))"
   ]
  },
  {
   "cell_type": "code",
   "execution_count": 5,
   "metadata": {},
   "outputs": [
    {
     "name": "stdout",
     "output_type": "stream",
     "text": [
      "    Sepal_Length Sepal_Width Petal_Length Petal_Width    Species\n",
      "1            5.1         3.5          1.4         0.2     setosa\n",
      "2            4.9         3.0          1.4         0.2     setosa\n",
      "3            4.7         3.2          1.3         0.2     setosa\n",
      "4            4.6         3.1          1.5         0.2     setosa\n",
      "5            5.0         3.6          1.4         0.2     setosa\n",
      "6            5.4         3.9          1.7         0.4     setosa\n",
      "7            4.6         3.4          1.4         0.3     setosa\n",
      "8            5.0         3.4          1.5         0.2     setosa\n",
      "9            4.4         2.9          1.4         0.2     setosa\n",
      "10           4.9         3.1          1.5         0.1     setosa\n",
      "11           5.4         3.7          1.5         0.2     setosa\n",
      "12           4.8         3.4          1.6         0.2     setosa\n",
      "13           4.8         3.0          1.4         0.1     setosa\n",
      "14           4.3         3.0          1.1         0.1     setosa\n",
      "15           5.8         4.0          1.2         0.2     setosa\n",
      "16           5.7         4.4          1.5         0.4     setosa\n",
      "17           5.4         3.9          1.3         0.4     setosa\n",
      "18           5.1         3.5          1.4         0.3     setosa\n",
      "19           5.7         3.8          1.7         0.3     setosa\n",
      "20           5.1         3.8          1.5         0.3     setosa\n",
      "21           5.4         3.4          1.7         0.2     setosa\n",
      "22           5.1         3.7          1.5         0.4     setosa\n",
      "23           4.6         3.6          1.0         0.2     setosa\n",
      "24           5.1         3.3          1.7         0.5     setosa\n",
      "25           4.8         3.4          1.9         0.2     setosa\n",
      "26           5.0         3.0          1.6         0.2     setosa\n",
      "27           5.0         3.4          1.6         0.4     setosa\n",
      "28           5.2         3.5          1.5         0.2     setosa\n",
      "29           5.2         3.4          1.4         0.2     setosa\n",
      "30           4.7         3.2          1.6         0.2     setosa\n",
      "31           4.8         3.1          1.6         0.2     setosa\n",
      "32           5.4         3.4          1.5         0.4     setosa\n",
      "33           5.2         4.1          1.5         0.1     setosa\n",
      "34           5.5         4.2          1.4         0.2     setosa\n",
      "35           4.9         3.1          1.5         0.2     setosa\n",
      "36           5.0         3.2          1.2         0.2     setosa\n",
      "37           5.5         3.5          1.3         0.2     setosa\n",
      "38           4.9         3.6          1.4         0.1     setosa\n",
      "39           4.4         3.0          1.3         0.2     setosa\n",
      "40           5.1         3.4          1.5         0.2     setosa\n",
      "41           5.0         3.5          1.3         0.3     setosa\n",
      "42           4.5         2.3          1.3         0.3     setosa\n",
      "43           4.4         3.2          1.3         0.2     setosa\n",
      "44           5.0         3.5          1.6         0.6     setosa\n",
      "45           5.1         3.8          1.9         0.4     setosa\n",
      "46           4.8         3.0          1.4         0.3     setosa\n",
      "47           5.1         3.8          1.6         0.2     setosa\n",
      "48           4.6         3.2          1.4         0.2     setosa\n",
      "49           5.3         3.7          1.5         0.2     setosa\n",
      "50           5.0         3.3          1.4         0.2     setosa\n",
      "51           7.0         3.2          4.7         1.4 versicolor\n",
      "52           6.4         3.2          4.5         1.5 versicolor\n",
      "53           6.9         3.1          4.9         1.5 versicolor\n",
      "54           5.5         2.3          4.0         1.3 versicolor\n",
      "55           6.5         2.8          4.6         1.5 versicolor\n",
      "56           5.7         2.8          4.5         1.3 versicolor\n",
      "57           6.3         3.3          4.7         1.6 versicolor\n",
      "58           4.9         2.4          3.3         1.0 versicolor\n",
      "59           6.6         2.9          4.6         1.3 versicolor\n",
      "60           5.2         2.7          3.9         1.4 versicolor\n",
      "61           5.0         2.0          3.5         1.0 versicolor\n",
      "62           5.9         3.0          4.2         1.5 versicolor\n",
      "63           6.0         2.2          4.0         1.0 versicolor\n",
      "64           6.1         2.9          4.7         1.4 versicolor\n",
      "65           5.6         2.9          3.6         1.3 versicolor\n",
      "66           6.7         3.1          4.4         1.4 versicolor\n",
      "67           5.6         3.0          4.5         1.5 versicolor\n",
      "68           5.8         2.7          4.1         1.0 versicolor\n",
      "69           6.2         2.2          4.5         1.5 versicolor\n",
      "70           5.6         2.5          3.9         1.1 versicolor\n",
      "71           5.9         3.2          4.8         1.8 versicolor\n",
      "72           6.1         2.8          4.0         1.3 versicolor\n",
      "73           6.3         2.5          4.9         1.5 versicolor\n",
      "74           6.1         2.8          4.7         1.2 versicolor\n",
      "75           6.4         2.9          4.3         1.3 versicolor\n",
      "76           6.6         3.0          4.4         1.4 versicolor\n",
      "77           6.8         2.8          4.8         1.4 versicolor\n",
      "78           6.7         3.0          5.0         1.7 versicolor\n",
      "79           6.0         2.9          4.5         1.5 versicolor\n",
      "80           5.7         2.6          3.5         1.0 versicolor\n",
      "81           5.5         2.4          3.8         1.1 versicolor\n",
      "82           5.5         2.4          3.7         1.0 versicolor\n",
      "83           5.8         2.7          3.9         1.2 versicolor\n",
      "84           6.0         2.7          5.1         1.6 versicolor\n",
      "85           5.4         3.0          4.5         1.5 versicolor\n",
      "86           6.0         3.4          4.5         1.6 versicolor\n",
      "87           6.7         3.1          4.7         1.5 versicolor\n",
      "88           6.3         2.3          4.4         1.3 versicolor\n",
      "89           5.6         3.0          4.1         1.3 versicolor\n",
      "90           5.5         2.5          4.0         1.3 versicolor\n",
      "91           5.5         2.6          4.4         1.2 versicolor\n",
      "92           6.1         3.0          4.6         1.4 versicolor\n",
      "93           5.8         2.6          4.0         1.2 versicolor\n",
      "94           5.0         2.3          3.3         1.0 versicolor\n",
      "95           5.6         2.7          4.2         1.3 versicolor\n",
      "96           5.7         3.0          4.2         1.2 versicolor\n",
      "97           5.7         2.9          4.2         1.3 versicolor\n",
      "98           6.2         2.9          4.3         1.3 versicolor\n",
      "99           5.1         2.5          3.0         1.1 versicolor\n",
      "100          5.7         2.8          4.1         1.3 versicolor\n",
      "101          6.3         3.3          6.0         2.5  virginica\n",
      "102          5.8         2.7          5.1         1.9  virginica\n",
      "103          7.1         3.0          5.9         2.1  virginica\n",
      "104          6.3         2.9          5.6         1.8  virginica\n",
      "105          6.5         3.0          5.8         2.2  virginica\n",
      "106          7.6         3.0          6.6         2.1  virginica\n",
      "107          4.9         2.5          4.5         1.7  virginica\n",
      "108          7.3         2.9          6.3         1.8  virginica\n",
      "109          6.7         2.5          5.8         1.8  virginica\n",
      "110          7.2         3.6          6.1         2.5  virginica\n",
      "111          6.5         3.2          5.1         2.0  virginica\n",
      "112          6.4         2.7          5.3         1.9  virginica\n",
      "113          6.8         3.0          5.5         2.1  virginica\n",
      "114          5.7         2.5          5.0         2.0  virginica\n",
      "115          5.8         2.8          5.1         2.4  virginica\n",
      "116          6.4         3.2          5.3         2.3  virginica\n",
      "117          6.5         3.0          5.5         1.8  virginica\n",
      "118          7.7         3.8          6.7         2.2  virginica\n",
      "119          7.7         2.6          6.9         2.3  virginica\n",
      "120          6.0         2.2          5.0         1.5  virginica\n",
      "121          6.9         3.2          5.7         2.3  virginica\n",
      "122          5.6         2.8          4.9         2.0  virginica\n",
      "123          7.7         2.8          6.7         2.0  virginica\n",
      "124          6.3         2.7          4.9         1.8  virginica\n",
      "125          6.7         3.3          5.7         2.1  virginica\n"
     ]
    },
    {
     "name": "stdout",
     "output_type": "stream",
     "text": [
      "126          7.2         3.2          6.0         1.8  virginica\n",
      "127          6.2         2.8          4.8         1.8  virginica\n",
      "128          6.1         3.0          4.9         1.8  virginica\n",
      "129          6.4         2.8          5.6         2.1  virginica\n",
      "130          7.2         3.0          5.8         1.6  virginica\n",
      "131          7.4         2.8          6.1         1.9  virginica\n",
      "132          7.9         3.8          6.4         2.0  virginica\n",
      "133          6.4         2.8          5.6         2.2  virginica\n",
      "134          6.3         2.8          5.1         1.5  virginica\n",
      "135          6.1         2.6          5.6         1.4  virginica\n",
      "136          7.7         3.0          6.1         2.3  virginica\n",
      "137          6.3         3.4          5.6         2.4  virginica\n",
      "138          6.4         3.1          5.5         1.8  virginica\n",
      "139          6.0         3.0          4.8         1.8  virginica\n",
      "140          6.9         3.1          5.4         2.1  virginica\n",
      "141          6.7         3.1          5.6         2.4  virginica\n",
      "142          6.9         3.1          5.1         2.3  virginica\n",
      "143          5.8         2.7          5.1         1.9  virginica\n",
      "144          6.8         3.2          5.9         2.3  virginica\n",
      "145          6.7         3.3          5.7         2.5  virginica\n",
      "146          6.7         3.0          5.2         2.3  virginica\n",
      "147          6.3         2.5          5.0         1.9  virginica\n",
      "148          6.5         3.0          5.2         2.0  virginica\n",
      "149          6.2         3.4          5.4         2.3  virginica\n",
      "150          5.9         3.0          5.1         1.8  virginica\n"
     ]
    }
   ],
   "source": [
    "%%R\n",
    "collect(createDataFrame(iris))"
   ]
  },
  {
   "cell_type": "markdown",
   "metadata": {},
   "source": [
    "## `dapply` and `gapply` with Arrow optimization"
   ]
  },
  {
   "cell_type": "code",
   "execution_count": 6,
   "metadata": {},
   "outputs": [
    {
     "name": "stdout",
     "output_type": "stream",
     "text": [
      "Java ref type org.apache.spark.sql.SparkSession id 1 \n"
     ]
    }
   ],
   "source": [
    "%%R\n",
    "sparkR.session(master = \"local[*]\", sparkConfig = list(spark.sql.execution.arrow.sparkr.enabled = \"true\"))"
   ]
  },
  {
   "cell_type": "code",
   "execution_count": 7,
   "metadata": {},
   "outputs": [
    {
     "name": "stdout",
     "output_type": "stream",
     "text": [
      "   gear  disp\n",
      "1     4 FALSE\n",
      "2     4 FALSE\n",
      "3     4  TRUE\n",
      "4     4 FALSE\n",
      "5     4 FALSE\n",
      "6     4 FALSE\n",
      "7     4 FALSE\n",
      "8     4  TRUE\n",
      "9     4  TRUE\n",
      "10    4  TRUE\n",
      "11    4  TRUE\n",
      "12    4  TRUE\n",
      "13    3  TRUE\n",
      "14    3 FALSE\n",
      "15    3  TRUE\n",
      "16    3 FALSE\n",
      "17    3  TRUE\n",
      "18    3  TRUE\n",
      "19    3  TRUE\n",
      "20    3 FALSE\n",
      "21    3 FALSE\n",
      "22    3 FALSE\n",
      "23    3  TRUE\n",
      "24    3  TRUE\n",
      "25    3  TRUE\n",
      "26    3 FALSE\n",
      "27    3 FALSE\n",
      "28    5  TRUE\n",
      "29    5  TRUE\n",
      "30    5 FALSE\n",
      "31    5  TRUE\n",
      "32    5 FALSE\n"
     ]
    }
   ],
   "source": [
    "%%R\n",
    "df <- createDataFrame(mtcars)\n",
    "collect(gapply(df,\n",
    "               \"gear\",\n",
    "               function(key, group) {\n",
    "                 data.frame(gear = key[[1]], disp = mean(group$disp) > group$disp)\n",
    "               },\n",
    "               structType(\"gear double, disp boolean\")))"
   ]
  },
  {
   "cell_type": "code",
   "execution_count": 8,
   "metadata": {},
   "outputs": [
    {
     "name": "stdout",
     "output_type": "stream",
     "text": [
      "   gear\n",
      "1     5\n",
      "2     5\n",
      "3     5\n",
      "4     4\n",
      "5     4\n",
      "6     4\n",
      "7     4\n",
      "8     5\n",
      "9     5\n",
      "10    5\n",
      "11    5\n",
      "12    4\n",
      "13    4\n",
      "14    4\n",
      "15    4\n",
      "16    4\n",
      "17    4\n",
      "18    5\n",
      "19    5\n",
      "20    5\n",
      "21    4\n",
      "22    4\n",
      "23    4\n",
      "24    4\n",
      "25    4\n",
      "26    5\n",
      "27    6\n",
      "28    6\n",
      "29    6\n",
      "30    6\n",
      "31    6\n",
      "32    5\n"
     ]
    }
   ],
   "source": [
    "%%R\n",
    "df <- createDataFrame(mtcars)\n",
    "collect(dapply(df, function(rdf) { data.frame(rdf$gear + 1) }, structType(\"gear double\")))"
   ]
  },
  {
   "cell_type": "markdown",
   "metadata": {},
   "source": [
    "## Pandas DataFrame <> Spark DataFrame with Arrow optimization"
   ]
  },
  {
   "cell_type": "code",
   "execution_count": 9,
   "metadata": {},
   "outputs": [
    {
     "data": {
      "text/html": [
       "<div>\n",
       "<style scoped>\n",
       "    .dataframe tbody tr th:only-of-type {\n",
       "        vertical-align: middle;\n",
       "    }\n",
       "\n",
       "    .dataframe tbody tr th {\n",
       "        vertical-align: top;\n",
       "    }\n",
       "\n",
       "    .dataframe thead th {\n",
       "        text-align: right;\n",
       "    }\n",
       "</style>\n",
       "<table border=\"1\" class=\"dataframe\">\n",
       "  <thead>\n",
       "    <tr style=\"text-align: right;\">\n",
       "      <th></th>\n",
       "      <th>a</th>\n",
       "    </tr>\n",
       "  </thead>\n",
       "  <tbody>\n",
       "    <tr>\n",
       "      <td>0</td>\n",
       "      <td>0</td>\n",
       "    </tr>\n",
       "    <tr>\n",
       "      <td>1</td>\n",
       "      <td>1</td>\n",
       "    </tr>\n",
       "    <tr>\n",
       "      <td>2</td>\n",
       "      <td>2</td>\n",
       "    </tr>\n",
       "    <tr>\n",
       "      <td>3</td>\n",
       "      <td>3</td>\n",
       "    </tr>\n",
       "    <tr>\n",
       "      <td>4</td>\n",
       "      <td>4</td>\n",
       "    </tr>\n",
       "    <tr>\n",
       "      <td>5</td>\n",
       "      <td>5</td>\n",
       "    </tr>\n",
       "    <tr>\n",
       "      <td>6</td>\n",
       "      <td>6</td>\n",
       "    </tr>\n",
       "    <tr>\n",
       "      <td>7</td>\n",
       "      <td>7</td>\n",
       "    </tr>\n",
       "    <tr>\n",
       "      <td>8</td>\n",
       "      <td>8</td>\n",
       "    </tr>\n",
       "    <tr>\n",
       "      <td>9</td>\n",
       "      <td>9</td>\n",
       "    </tr>\n",
       "  </tbody>\n",
       "</table>\n",
       "</div>"
      ],
      "text/plain": [
       "   a\n",
       "0  0\n",
       "1  1\n",
       "2  2\n",
       "3  3\n",
       "4  4\n",
       "5  5\n",
       "6  6\n",
       "7  7\n",
       "8  8\n",
       "9  9"
      ]
     },
     "execution_count": 9,
     "metadata": {},
     "output_type": "execute_result"
    }
   ],
   "source": [
    "import pandas as pd\n",
    "\n",
    "spark.conf.set(\"spark.sql.execution.arrow.pyspark.enabled\", \"true\")\n",
    "spark.createDataFrame(pd.DataFrame({'a': range(10)})).toPandas()"
   ]
  }
 ],
 "metadata": {
  "kernelspec": {
   "display_name": "Python 3",
   "language": "python",
   "name": "python3"
  },
  "language_info": {
   "codemirror_mode": {
    "name": "ipython",
    "version": 3
   },
   "file_extension": ".py",
   "mimetype": "text/x-python",
   "name": "python",
   "nbconvert_exporter": "python",
   "pygments_lexer": "ipython3",
   "version": "3.7.3"
  }
 },
 "nbformat": 4,
 "nbformat_minor": 2
}
